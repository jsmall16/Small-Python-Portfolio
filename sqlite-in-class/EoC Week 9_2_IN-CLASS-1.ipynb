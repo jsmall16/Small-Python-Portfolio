{
 "cells": [
  {
   "cell_type": "markdown",
   "metadata": {},
   "source": [
    "# More SQL with SQLite in Python\n",
    "\n",
    "**Note:** Ensure the `sakila.db` file is in your working directory before running the notebook."
   ]
  },
  {
   "cell_type": "code",
   "execution_count": 1,
   "metadata": {},
   "outputs": [
    {
     "name": "stdout",
     "output_type": "stream",
     "text": [
      "Connected to SQLite Sakila database!\n"
     ]
    }
   ],
   "source": [
    "import sqlite3\n",
    "import pandas as pd\n",
    "\n",
    "# Set the path to the SQLite database\n",
    "db_path = \"sakila.db\"\n",
    "\n",
    "# Connect to SQLite database\n",
    "conn = sqlite3.connect(db_path)\n",
    "print(\"Connected to SQLite Sakila database!\")"
   ]
  },
  {
   "cell_type": "markdown",
   "metadata": {},
   "source": [
    "### Exploring the Database Schema\n",
    "\n",
    "Before diving into queries, it's useful to know which tables are available in the Sakila database. We'll list all tables by querying the SQLite master table."
   ]
  },
  {
   "cell_type": "code",
   "execution_count": null,
   "metadata": {},
   "outputs": [
    {
     "name": "stdout",
     "output_type": "stream",
     "text": [
      "Tables in the database:\n",
      "               name\n",
      "0             actor\n",
      "1           country\n",
      "2              city\n",
      "3           address\n",
      "4          language\n",
      "5          category\n",
      "6          customer\n",
      "7              film\n",
      "8        film_actor\n",
      "9     film_category\n",
      "10        film_text\n",
      "11        inventory\n",
      "12            staff\n",
      "13            store\n",
      "14          payment\n",
      "15           rental\n",
      "16        customers\n",
      "17  sqlite_sequence\n",
      "18       test_table\n"
     ]
    }
   ],
   "source": [
    "# List all tables in the database\n",
    "tables = pd.read_sql(\"\"\"SELECT name\n",
    "                        FROM sqlite_master \n",
    "                        WHERE type='table';\"\"\", conn)\n",
    "\n",
    "print(\"Tables in the database:\")\n",
    "print(tables)"
   ]
  },
  {
   "cell_type": "markdown",
   "metadata": {},
   "source": [
    "## Part 1. Other Operations\n",
    "These operations help you filter numeric data and handle potential NULLs. We’ll use the film table as an example:"
   ]
  },
  {
   "cell_type": "markdown",
   "metadata": {},
   "source": [
    "### BETWEEN Operator\n",
    "Select films where the film length is within a specified range."
   ]
  },
  {
   "cell_type": "code",
   "execution_count": 9,
   "metadata": {},
   "outputs": [
    {
     "name": "stdout",
     "output_type": "stream",
     "text": [
      "Select films between 80 and 120 minutes:\n",
      "                     title  length\n",
      "0    FLAMINGOS CONNECTICUT      80\n",
      "1            GARDEN ISLAND      80\n",
      "2            LOSER HUSTLER      80\n",
      "3           MEET CHOCOLATE      80\n",
      "4             PEAK FOREVER      80\n",
      "..                     ...     ...\n",
      "295            KARATE MOON     120\n",
      "296              LOCK REAR     120\n",
      "297         ORDER BETRAYED     120\n",
      "298             RAGE GAMES     120\n",
      "299   UNTOUCHABLES SUNRISE     120\n",
      "\n",
      "[300 rows x 2 columns]\n"
     ]
    }
   ],
   "source": [
    "# Define SQL query to fetch the first 5 rows from the actor table.\n",
    "query_between = \"\"\"\n",
    "                SELECT title, length\n",
    "                FROM film\n",
    "                WHERE length BETWEEN 80 AND 120\n",
    "                ORDER BY length\n",
    "                \"\"\"\n",
    "\n",
    "# Execute the query using pd.read_sql.\n",
    "df_between = pd.read_sql(query_between, conn)\n",
    "\n",
    "print(\"Select films between 80 and 120 minutes:\")\n",
    "print(df_between)\n",
    "\n",
    "# range is inclusive"
   ]
  },
  {
   "cell_type": "markdown",
   "metadata": {},
   "source": [
    "### IS NOT NULL Operator\n",
    "Ensure that you only fetch rows with actual (non-null) values."
   ]
  },
  {
   "cell_type": "code",
   "execution_count": 12,
   "metadata": {},
   "outputs": [
    {
     "name": "stdout",
     "output_type": "stream",
     "text": [
      "Drop rows without descriptions:\n",
      "                 title                                        description\n",
      "0     ACADEMY DINOSAUR  A Epic Drama of a Feminist And a Mad Scientist...\n",
      "1       ACE GOLDFINGER  A Astounding Epistle of a Database Administrat...\n",
      "2     ADAPTATION HOLES  A Astounding Reflection of a Lumberjack And a ...\n",
      "3     AFFAIR PREJUDICE  A Fanciful Documentary of a Frisbee And a Lumb...\n",
      "4          AFRICAN EGG  A Fast-Paced Documentary of a Pastry Chef And ...\n",
      "..                 ...                                                ...\n",
      "995     YOUNG LANGUAGE  A Unbelieveable Yarn of a Boat And a Database ...\n",
      "996         YOUTH KICK  A Touching Drama of a Teacher And a Cat who mu...\n",
      "997       ZHIVAGO CORE  A Fateful Yarn of a Composer And a Man who mus...\n",
      "998  ZOOLANDER FICTION  A Fateful Reflection of a Waitress And a Boat ...\n",
      "999          ZORRO ARK  A Intrepid Panorama of a Mad Scientist And a B...\n",
      "\n",
      "[1000 rows x 2 columns]\n"
     ]
    }
   ],
   "source": [
    "# Define SQL query to fetch the first 5 rows from the actor table.\n",
    "query_nonnull = \"\"\"\n",
    "                SELECT title, description\n",
    "                FROM film\n",
    "                WHERE description IS NOT NULL; \n",
    "                \"\"\"\n",
    "\n",
    "# Execute the query using pd.read_sql.\n",
    "df_nonnull = pd.read_sql(query_nonnull, conn)\n",
    "\n",
    "print(\"Drop rows without descriptions:\")\n",
    "print(df_nonnull)"
   ]
  },
  {
   "cell_type": "markdown",
   "metadata": {},
   "source": [
    "### IN Operator\n",
    "Filter rows by matching a column against a list of values."
   ]
  },
  {
   "cell_type": "code",
   "execution_count": 16,
   "metadata": {},
   "outputs": [
    {
     "name": "stdout",
     "output_type": "stream",
     "text": [
      "Query of distint count of actors per title and G and PG rated films:\n",
      "    rating                   title  actor_count\n",
      "0       PG        ACADEMY DINOSAUR           10\n",
      "1       PG            AGENT TRUMAN            7\n",
      "2       PG          ALASKA PHANTOM            7\n",
      "3       PG             ALI FOREVER            5\n",
      "4       PG            AMADEUS HOLY            6\n",
      "..     ...                     ...          ...\n",
      "366      G  WATERFRONT DELIVERANCE            6\n",
      "367      G      WATERSHIP FRONTIER            6\n",
      "368      G           WEREWOLF LOLA            7\n",
      "369      G               WEST LION            9\n",
      "370      G          YOUNG LANGUAGE            5\n",
      "\n",
      "[371 rows x 3 columns]\n"
     ]
    }
   ],
   "source": [
    "# Define SQL query to fetch the first 5 rows from the actor table.\n",
    "query_rating = \"\"\"\n",
    "                SELECT f.rating, f.title, COUNT(DISTINCT fa.actor_id) AS actor_count\n",
    "                FROM  film AS f\n",
    "                JOIN film_actor AS fa\n",
    "                ON f.film_id = fa.film_id\n",
    "                WHERE f.rating IN (\"G\",\"PG\")\n",
    "                GROUP BY f.rating, f.title\n",
    "                ORDER BY f.rating DESC, f.title\n",
    "               \"\"\"\n",
    "\n",
    "# Execute the query using pd.read_sql.\n",
    "df_rating = pd.read_sql(query_rating, conn)\n",
    "\n",
    "print(\"Query of distint count of actors per title and G and PG rated films:\")\n",
    "print(df_rating)"
   ]
  },
  {
   "cell_type": "markdown",
   "metadata": {},
   "source": [
    "## Part 2. Text Operations\n",
    "Use the LIKE operator with wildcards to match text patterns—again, using the `film` table:\n",
    "\n",
    "Using Wildcards with LIKE:\n",
    "\n",
    "- `%` matches zero or more characters.\n",
    "- `_` matches exactly one character."
   ]
  },
  {
   "cell_type": "code",
   "execution_count": null,
   "metadata": {},
   "outputs": [
    {
     "name": "stdout",
     "output_type": "stream",
     "text": [
      "Query films that either start with A or end with s:\n",
      "                          title\n",
      "0              ACADEMY DINOSAUR\n",
      "1                ACE GOLDFINGER\n",
      "2              ADAPTATION HOLES\n",
      "3              AFFAIR PREJUDICE\n",
      "4                   AFRICAN EGG\n",
      "5                  AGENT TRUMAN\n",
      "6               AIRPLANE SIERRA\n",
      "7               AIRPORT POLLOCK\n",
      "8                 ALABAMA DEVIL\n",
      "9              ALADDIN CALENDAR\n",
      "10              ALAMO VIDEOTAPE\n",
      "11               ALASKA PHANTOM\n",
      "12                  ALI FOREVER\n",
      "13               ALICE FANTASIA\n",
      "14                 ALIEN CENTER\n",
      "15              ALLEY EVOLUTION\n",
      "16                   ALONE TRIP\n",
      "17                ALTER VICTORY\n",
      "18                 AMADEUS HOLY\n",
      "19          AMELIE HELLFIGHTERS\n",
      "20              AMERICAN CIRCUS\n",
      "21            AMISTAD MIDSUMMER\n",
      "22         ANACONDA CONFESSIONS\n",
      "23             ANALYZE HOOSIERS\n",
      "24                  ANGELS LIFE\n",
      "25               ANNIE IDENTITY\n",
      "26              ANONYMOUS HUMAN\n",
      "27                  ANTHEM LUKE\n",
      "28           ANTITRUST TOMATOES\n",
      "29            ANYTHING SAVANNAH\n",
      "30                APACHE DIVINE\n",
      "31         APOCALYPSE FLAMINGOS\n",
      "32                  APOLLO TEEN\n",
      "33                 ARABIA DOGMA\n",
      "34  ARACHNOPHOBIA ROLLERCOASTER\n",
      "35               ARGONAUTS TOWN\n",
      "36                 ARIZONA BANG\n",
      "37                ARK RIDGEMONT\n",
      "38              ARMAGEDDON LOST\n",
      "39             ARMY FLINTSTONES\n",
      "40         ARSENIC INDEPENDENCE\n",
      "41           ARTIST COLDBLOODED\n",
      "42               ATLANTIS CAUSE\n",
      "43                 ATTACKS HATE\n",
      "44            ATTRACTION NEWTON\n",
      "45                  AUTUMN CROW\n"
     ]
    }
   ],
   "source": [
    "query_wildcard1 = \"\"\"\n",
    "                  SELECT title\n",
    "                  FROM film\n",
    "                  WHERE title LIKE 'A%' or title LIKE '%s'\n",
    "                  \"\"\"\n",
    "\n",
    "# Execute the query using pd.read_sql.\n",
    "df_wc1 = pd.read_sql(query_wildcard1, conn)\n",
    "\n",
    "print(\"Query films that either start with A or end with s:\")\n",
    "print(df_wc1)\n"
   ]
  },
  {
   "cell_type": "code",
   "execution_count": 18,
   "metadata": {},
   "outputs": [
    {
     "name": "stdout",
     "output_type": "stream",
     "text": [
      "Query films where the second letter is 'a':\n",
      "                      title\n",
      "0                 BABY HALL\n",
      "1       BACKLASH UNDEFEATED\n",
      "2               BADMAN DAWN\n",
      "3           BAKED CLEOPATRA\n",
      "4          BALLOON HOMEWARD\n",
      "..                      ...\n",
      "184           WASH HEAVENLY\n",
      "185        WASTELAND DIVINE\n",
      "186             WATCH TRACY\n",
      "187  WATERFRONT DELIVERANCE\n",
      "188      WATERSHIP FRONTIER\n",
      "\n",
      "[189 rows x 1 columns]\n"
     ]
    }
   ],
   "source": [
    "query_wildcard2 = \"\"\"\n",
    "                  SELECT title\n",
    "                  FROM film\n",
    "                  WHERE title LIKE '_a%'\n",
    "                  \"\"\"\n",
    "\n",
    "# Execute the query using pd.read_sql.\n",
    "df_wc2 = pd.read_sql(query_wildcard2, conn)\n",
    "\n",
    "print(\"Query films where the second letter is 'a':\")\n",
    "print(df_wc2)"
   ]
  },
  {
   "cell_type": "markdown",
   "metadata": {},
   "source": [
    "# Group Exercises\n",
    "- Find a neighbor, yes, move around and make a new friend!\n",
    "- Work through the following practice exercises together."
   ]
  },
  {
   "cell_type": "markdown",
   "metadata": {},
   "source": [
    "# Partner Practice Exercise\n",
    "\n",
    "Now that we've seen several examples of JOINs and aggregation queries, it's time for you to practice with a partner. Complete the following tasks using the Sakila database:\n",
    "\n",
    "1. **Challenge 1: Short Films with Language**\n",
    "   - Write a query that returns each film’s title, description, and language name (labeled as “language”) from the `film` and `language` tables, for all films with length under 100. Join `film.language_id` to `language.language_id` to retrieve the language name.\n",
    "\n",
    "2. **Challenge 2: Specific Ratings Filter with Language**\n",
    "   - Write a query to display each film’s title, rating, and language name (as “language”) for all films whose rating is either ‘PG-13’ or ‘R.’ Join film.language_id to language.language_id.\n",
    "\n",
    "3. **Challenge 3: Pattern Matching on Film Titles with Category**\n",
    "   - Write a query to list each film’s title and its category name (as “category”) for all films whose title begins with “T” or ends with “s.” Join film to film_category and then to category to retrieve the category name.\n",
    "\n",
    "4. **Challenge 4: Single-Character Wildcard with Actor Join**\n",
    "   - Write a query that lists each film’s title and the actor’s full name (using first_name || ' ' || last_name) for all films whose title has “y” as the second character. Join film, film_actor, and actor on their respective IDs.\n",
    "\n",
    "5. **Challenge 5: Distinct Customer Payments and Rentals**\n",
    "   - Write a query to display each customer’s ID along with the total number of distinct payments and rentals they have made. Use LEFT JOIN with the payment and rental tables, group by the customer, and order by total payments (descending) then total rentals (descending).\n",
    "\n",
    "6. **Challenge 6: Advanced Filtering with Category**\n",
    "   - Write a query that returns each film’s title, rental rate, length, and category (labeled as “category”) for films whose rental rate is between 2.99 and 4.99, rating is either ‘PG’ or ‘R,’ and title starts with “A.” Join film to film_category and category to retrieve the category name.\n",
    "         - HINT: USE `AND` as a dependent clause of your `WHERE` clause to create multiple conditions.\n",
    "         \n",
    "Discuss your approaches with your partner, compare your results, and be ready to review a few solutions as a class."
   ]
  },
  {
   "cell_type": "code",
   "execution_count": 29,
   "metadata": {},
   "outputs": [
    {
     "name": "stdout",
     "output_type": "stream",
     "text": [
      "Challenge 1\n",
      "                   title                                        description  \\\n",
      "0       ACADEMY DINOSAUR  A Epic Drama of a Feminist And a Mad Scientist...   \n",
      "1         ACE GOLDFINGER  A Astounding Epistle of a Database Administrat...   \n",
      "2       ADAPTATION HOLES  A Astounding Reflection of a Lumberjack And a ...   \n",
      "3        AIRPLANE SIERRA  A Touching Saga of a Hunter And a Butler who m...   \n",
      "4        AIRPORT POLLOCK  A Epic Tale of a Moose And a Girl who must Con...   \n",
      "..                   ...                                                ...   \n",
      "373        WOLVES DESIRE  A Fast-Paced Drama of a Squirrel And a Robot w...   \n",
      "374            WONKA SEA  A Brilliant Saga of a Boat And a Mad Scientist...   \n",
      "375  WORKING MICROCOSMOS  A Stunning Epistle of a Dentist And a Dog who ...   \n",
      "376          YENTL IDAHO  A Amazing Display of a Robot And a Astronaut w...   \n",
      "377            ZORRO ARK  A Intrepid Panorama of a Mad Scientist And a B...   \n",
      "\n",
      "    language  \n",
      "0    English  \n",
      "1    English  \n",
      "2    English  \n",
      "3    English  \n",
      "4    English  \n",
      "..       ...  \n",
      "373  English  \n",
      "374  English  \n",
      "375  English  \n",
      "376  English  \n",
      "377  English  \n",
      "\n",
      "[378 rows x 3 columns]\n"
     ]
    }
   ],
   "source": [
    "query_chal1 = \"\"\"\n",
    "              SELECT f.title, f.description, l.name AS \"language\"\n",
    "              FROM film AS f\n",
    "              JOIN language AS l\n",
    "              ON f.language_ID = l.language_ID\n",
    "              GROUP BY f.title\n",
    "              HAVING f.length < 100\n",
    "              \"\"\"\n",
    "\n",
    "# Execute the query using pd.read_sql.\n",
    "df_chal1 = pd.read_sql(query_chal1, conn)\n",
    "\n",
    "print(\"Challenge 1\")\n",
    "print(df_chal1)"
   ]
  },
  {
   "cell_type": "code",
   "execution_count": 33,
   "metadata": {},
   "outputs": [
    {
     "name": "stdout",
     "output_type": "stream",
     "text": [
      "Challenge 2\n",
      "                   title rating language\n",
      "0        AIRPLANE SIERRA  PG-13  English\n",
      "1          ALABAMA DEVIL  PG-13  English\n",
      "2          ALTER VICTORY  PG-13  English\n",
      "3            ANTHEM LUKE  PG-13  English\n",
      "4            APOLLO TEEN  PG-13  English\n",
      "..                   ...    ...      ...\n",
      "413         WOMEN DORADO      R  English\n",
      "414        WORKER TARZAN      R  English\n",
      "415  WORKING MICROCOSMOS      R  English\n",
      "416          YENTL IDAHO      R  English\n",
      "417    ZOOLANDER FICTION      R  English\n",
      "\n",
      "[418 rows x 3 columns]\n"
     ]
    }
   ],
   "source": [
    "\n",
    "query_chal2 = \"\"\"\n",
    "              SELECT f.title, f.rating, l.name AS \"language\"\n",
    "              FROM film AS f\n",
    "              JOIN language AS l\n",
    "              ON f.language_ID = l.language_ID\n",
    "              WHERE f.rating IN (\"PG-13\",\"R\")\n",
    "              GROUP BY f.rating, f.title;\n",
    "              \"\"\"\n",
    "# Execute the query using pd.read_sql.\n",
    "df_chal2 = pd.read_sql(query_chal2, conn)\n",
    "\n",
    "print(\"Challenge 2\")\n",
    "print(df_chal2)"
   ]
  },
  {
   "cell_type": "code",
   "execution_count": 40,
   "metadata": {},
   "outputs": [
    {
     "name": "stdout",
     "output_type": "stream",
     "text": [
      "Challenge 3\n",
      "                    title     category\n",
      "0        ADAPTATION HOLES  Documentary\n",
      "1     AMELIE HELLFIGHTERS        Music\n",
      "2         AMERICAN CIRCUS       Action\n",
      "3    ANACONDA CONFESSIONS    Animation\n",
      "4        ANALYZE HOOSIERS       Horror\n",
      "..                    ...          ...\n",
      "181             WAKE JAWS          New\n",
      "182             WON DARES        Music\n",
      "183  WONDERLAND CHRISTMAS       Sci-Fi\n",
      "184   WORKING MICROCOSMOS       Travel\n",
      "185    WORLD LEATHERNECKS       Horror\n",
      "\n",
      "[186 rows x 2 columns]\n"
     ]
    }
   ],
   "source": [
    "\n",
    "query_chal3 = \"\"\"\n",
    "              SELECT f.title, c.name AS \"category\"\n",
    "              FROM film AS f\n",
    "              JOIN film_category as fc\n",
    "              ON f.film_ID = fc.film_ID\n",
    "              JOIN category as c\n",
    "              ON c.category_ID = fc.category_ID\n",
    "              WHERE f.title LIKE 'T%' or f.title LIKE '%s'\n",
    "              \"\"\"\n",
    "\n",
    "# Execute the query using pd.read_sql.\n",
    "df_chal3 = pd.read_sql(query_chal3, conn)\n",
    "\n",
    "print(\"Challenge 3\")\n",
    "print(df_chal3)"
   ]
  },
  {
   "cell_type": "code",
   "execution_count": 43,
   "metadata": {},
   "outputs": [
    {
     "name": "stdout",
     "output_type": "stream",
     "text": [
      "Challenge 4\n",
      "               title    actor_full_name\n",
      "0      WYOMING STORM    BETTE NICHOLSON\n",
      "1   TYCOON GATHERING      VIVIEN BERGEN\n",
      "2        HYDE DOCTOR       CUBA OLIVIER\n",
      "3     CYCLONE FAMILY       HELEN VOIGHT\n",
      "4    DYNAMITE TARZAN        BOB FAWCETT\n",
      "5        HYDE DOCTOR      LUCILLE TRACY\n",
      "6     CYCLONE FAMILY       RIP CRAWFORD\n",
      "7      WYOMING STORM      WOODY HOFFMAN\n",
      "8     CYCLONE FAMILY          JUDY DEAN\n",
      "9       EYES DRIVING         DAN HARRIS\n",
      "10       HYDE DOCTOR       JAYNE NEESON\n",
      "11       HYDE DOCTOR         BURT POSEY\n",
      "12  HYSTERICAL GRAIL         BURT POSEY\n",
      "13       DYING MAKER    GROUCHO SINATRA\n",
      "14     MYSTIC TRUMAN     SCARLETT DAMON\n",
      "15  HYSTERICAL GRAIL   MINNIE ZELLWEGER\n",
      "16   DYNAMITE TARZAN     CHARLIZE DENCH\n",
      "17  HYSTERICAL GRAIL     CHARLIZE DENCH\n",
      "18       HYDE DOCTOR      ELLEN PRESLEY\n",
      "19  HYSTERICAL GRAIL          MEG HAWKE\n",
      "20  TYCOON GATHERING       SPENCER DEPP\n",
      "21  HYSTERICAL GRAIL        WALTER TORN\n",
      "22     WYOMING STORM       SIDNEY CROWE\n",
      "23       HYDE DOCTOR     GINA DEGENERES\n",
      "24  TYCOON GATHERING  CAMERON ZELLWEGER\n",
      "25     WYOMING STORM      HARRISON BALE\n",
      "26      EYES DRIVING        RENEE TRACY\n",
      "27     WYOMING STORM    PENELOPE MONROE\n",
      "28   DYNAMITE TARZAN     JULIANNE DENCH\n",
      "29  HYSTERICAL GRAIL     JULIANNE DENCH\n",
      "30     MYSTIC TRUMAN      KEVIN GARLAND\n",
      "31  HYSTERICAL GRAIL    MORGAN WILLIAMS\n",
      "32  HYSTERICAL GRAIL        LUCILLE DEE\n",
      "33   DYNAMITE TARZAN       EWAN GOODING\n",
      "34     MYSTIC TRUMAN         RIVER DEAN\n",
      "35      EYES DRIVING        FAY WINSLET\n",
      "36  HYSTERICAL GRAIL        JAYNE NOLTE\n",
      "37  TYCOON GATHERING      MINNIE KILMER\n",
      "38     MYSTIC TRUMAN    HUMPHREY WILLIS\n",
      "39      EYES DRIVING     MICHAEL BENING\n",
      "40       DYING MAKER     MICHAEL BOLGER\n",
      "41  TYCOON GATHERING     MICHAEL BOLGER\n",
      "42     WYOMING STORM    JULIA ZELLWEGER\n",
      "43   DYNAMITE TARZAN         CUBA BIRCH\n",
      "44      EYES DRIVING  JAYNE SILVERSTONE\n",
      "45  TYCOON GATHERING        BELA WALKEN\n"
     ]
    }
   ],
   "source": [
    "\n",
    "query_chal4 = \"\"\"\n",
    "              SELECT f.title, a.first_name || ' ' || a.last_name AS actor_full_name\n",
    "              FROM film AS f\n",
    "              JOIN film_actor AS fa\n",
    "              ON f.film_ID = fa.film_ID\n",
    "              JOIN actor AS a\n",
    "              ON a.actor_ID = fa.actor_ID\n",
    "              WHERE f.title LIKE '_y%'\n",
    "              \"\"\"\n",
    "\n",
    "# Execute the query using pd.read_sql.\n",
    "df_chal4 = pd.read_sql(query_chal4, conn)\n",
    "\n",
    "print(\"Challenge 4\")\n",
    "print(df_chal4)"
   ]
  },
  {
   "cell_type": "code",
   "execution_count": 50,
   "metadata": {},
   "outputs": [
    {
     "ename": "DatabaseError",
     "evalue": "Execution failed on sql '\n              SELECT p.customer_id, COUNT(DISTINCT p.payment_ID) AS total_payments,\n                     COUNT(DISTINCT r.rental_id) AS total_rentals\n              FROM Payment as p\n              LEFT JOIN Rental as r\n              ON p.rental_id = r.rental_id\n              GROUP BY customer_id\n              ORDER BY total_paymentds DESC, total_rentals DESC\n              ': no such column: total_paymentds",
     "output_type": "error",
     "traceback": [
      "\u001b[0;31m---------------------------------------------------------------------------\u001b[0m",
      "\u001b[0;31mOperationalError\u001b[0m                          Traceback (most recent call last)",
      "File \u001b[0;32m/opt/anaconda3/lib/python3.12/site-packages/pandas/io/sql.py:2674\u001b[0m, in \u001b[0;36mSQLiteDatabase.execute\u001b[0;34m(self, sql, params)\u001b[0m\n\u001b[1;32m   2673\u001b[0m \u001b[38;5;28;01mtry\u001b[39;00m:\n\u001b[0;32m-> 2674\u001b[0m     cur\u001b[38;5;241m.\u001b[39mexecute(sql, \u001b[38;5;241m*\u001b[39margs)\n\u001b[1;32m   2675\u001b[0m     \u001b[38;5;28;01mreturn\u001b[39;00m cur\n",
      "\u001b[0;31mOperationalError\u001b[0m: no such column: total_paymentds",
      "\nThe above exception was the direct cause of the following exception:\n",
      "\u001b[0;31mDatabaseError\u001b[0m                             Traceback (most recent call last)",
      "Cell \u001b[0;32mIn[50], line 12\u001b[0m\n\u001b[1;32m      1\u001b[0m query_chal5 \u001b[38;5;241m=\u001b[39m \u001b[38;5;124m\"\"\"\u001b[39m\n\u001b[1;32m      2\u001b[0m \u001b[38;5;124m              SELECT p.customer_id, COUNT(DISTINCT p.payment_ID) AS total_payments,\u001b[39m\n\u001b[1;32m      3\u001b[0m \u001b[38;5;124m                     COUNT(DISTINCT r.rental_id) AS total_rentals\u001b[39m\n\u001b[0;32m   (...)\u001b[0m\n\u001b[1;32m      8\u001b[0m \u001b[38;5;124m              ORDER BY total_paymentds DESC, total_rentals DESC\u001b[39m\n\u001b[1;32m      9\u001b[0m \u001b[38;5;124m              \u001b[39m\u001b[38;5;124m\"\"\"\u001b[39m\n\u001b[1;32m     11\u001b[0m \u001b[38;5;66;03m# Execute the query using pd.read_sql.\u001b[39;00m\n\u001b[0;32m---> 12\u001b[0m df_chal5 \u001b[38;5;241m=\u001b[39m pd\u001b[38;5;241m.\u001b[39mread_sql(query_chal5, conn)\n\u001b[1;32m     14\u001b[0m \u001b[38;5;28mprint\u001b[39m(\u001b[38;5;124m\"\u001b[39m\u001b[38;5;124mChallenge 5\u001b[39m\u001b[38;5;124m\"\u001b[39m)\n\u001b[1;32m     15\u001b[0m \u001b[38;5;28mprint\u001b[39m(df_chal5)\n",
      "File \u001b[0;32m/opt/anaconda3/lib/python3.12/site-packages/pandas/io/sql.py:706\u001b[0m, in \u001b[0;36mread_sql\u001b[0;34m(sql, con, index_col, coerce_float, params, parse_dates, columns, chunksize, dtype_backend, dtype)\u001b[0m\n\u001b[1;32m    704\u001b[0m \u001b[38;5;28;01mwith\u001b[39;00m pandasSQL_builder(con) \u001b[38;5;28;01mas\u001b[39;00m pandas_sql:\n\u001b[1;32m    705\u001b[0m     \u001b[38;5;28;01mif\u001b[39;00m \u001b[38;5;28misinstance\u001b[39m(pandas_sql, SQLiteDatabase):\n\u001b[0;32m--> 706\u001b[0m         \u001b[38;5;28;01mreturn\u001b[39;00m pandas_sql\u001b[38;5;241m.\u001b[39mread_query(\n\u001b[1;32m    707\u001b[0m             sql,\n\u001b[1;32m    708\u001b[0m             index_col\u001b[38;5;241m=\u001b[39mindex_col,\n\u001b[1;32m    709\u001b[0m             params\u001b[38;5;241m=\u001b[39mparams,\n\u001b[1;32m    710\u001b[0m             coerce_float\u001b[38;5;241m=\u001b[39mcoerce_float,\n\u001b[1;32m    711\u001b[0m             parse_dates\u001b[38;5;241m=\u001b[39mparse_dates,\n\u001b[1;32m    712\u001b[0m             chunksize\u001b[38;5;241m=\u001b[39mchunksize,\n\u001b[1;32m    713\u001b[0m             dtype_backend\u001b[38;5;241m=\u001b[39mdtype_backend,\n\u001b[1;32m    714\u001b[0m             dtype\u001b[38;5;241m=\u001b[39mdtype,\n\u001b[1;32m    715\u001b[0m         )\n\u001b[1;32m    717\u001b[0m     \u001b[38;5;28;01mtry\u001b[39;00m:\n\u001b[1;32m    718\u001b[0m         _is_table_name \u001b[38;5;241m=\u001b[39m pandas_sql\u001b[38;5;241m.\u001b[39mhas_table(sql)\n",
      "File \u001b[0;32m/opt/anaconda3/lib/python3.12/site-packages/pandas/io/sql.py:2738\u001b[0m, in \u001b[0;36mSQLiteDatabase.read_query\u001b[0;34m(self, sql, index_col, coerce_float, parse_dates, params, chunksize, dtype, dtype_backend)\u001b[0m\n\u001b[1;32m   2727\u001b[0m \u001b[38;5;28;01mdef\u001b[39;00m \u001b[38;5;21mread_query\u001b[39m(\n\u001b[1;32m   2728\u001b[0m     \u001b[38;5;28mself\u001b[39m,\n\u001b[1;32m   2729\u001b[0m     sql,\n\u001b[0;32m   (...)\u001b[0m\n\u001b[1;32m   2736\u001b[0m     dtype_backend: DtypeBackend \u001b[38;5;241m|\u001b[39m Literal[\u001b[38;5;124m\"\u001b[39m\u001b[38;5;124mnumpy\u001b[39m\u001b[38;5;124m\"\u001b[39m] \u001b[38;5;241m=\u001b[39m \u001b[38;5;124m\"\u001b[39m\u001b[38;5;124mnumpy\u001b[39m\u001b[38;5;124m\"\u001b[39m,\n\u001b[1;32m   2737\u001b[0m ) \u001b[38;5;241m-\u001b[39m\u001b[38;5;241m>\u001b[39m DataFrame \u001b[38;5;241m|\u001b[39m Iterator[DataFrame]:\n\u001b[0;32m-> 2738\u001b[0m     cursor \u001b[38;5;241m=\u001b[39m \u001b[38;5;28mself\u001b[39m\u001b[38;5;241m.\u001b[39mexecute(sql, params)\n\u001b[1;32m   2739\u001b[0m     columns \u001b[38;5;241m=\u001b[39m [col_desc[\u001b[38;5;241m0\u001b[39m] \u001b[38;5;28;01mfor\u001b[39;00m col_desc \u001b[38;5;129;01min\u001b[39;00m cursor\u001b[38;5;241m.\u001b[39mdescription]\n\u001b[1;32m   2741\u001b[0m     \u001b[38;5;28;01mif\u001b[39;00m chunksize \u001b[38;5;129;01mis\u001b[39;00m \u001b[38;5;129;01mnot\u001b[39;00m \u001b[38;5;28;01mNone\u001b[39;00m:\n",
      "File \u001b[0;32m/opt/anaconda3/lib/python3.12/site-packages/pandas/io/sql.py:2686\u001b[0m, in \u001b[0;36mSQLiteDatabase.execute\u001b[0;34m(self, sql, params)\u001b[0m\n\u001b[1;32m   2683\u001b[0m     \u001b[38;5;28;01mraise\u001b[39;00m ex \u001b[38;5;28;01mfrom\u001b[39;00m \u001b[38;5;21;01minner_exc\u001b[39;00m\n\u001b[1;32m   2685\u001b[0m ex \u001b[38;5;241m=\u001b[39m DatabaseError(\u001b[38;5;124mf\u001b[39m\u001b[38;5;124m\"\u001b[39m\u001b[38;5;124mExecution failed on sql \u001b[39m\u001b[38;5;124m'\u001b[39m\u001b[38;5;132;01m{\u001b[39;00msql\u001b[38;5;132;01m}\u001b[39;00m\u001b[38;5;124m'\u001b[39m\u001b[38;5;124m: \u001b[39m\u001b[38;5;132;01m{\u001b[39;00mexc\u001b[38;5;132;01m}\u001b[39;00m\u001b[38;5;124m\"\u001b[39m)\n\u001b[0;32m-> 2686\u001b[0m \u001b[38;5;28;01mraise\u001b[39;00m ex \u001b[38;5;28;01mfrom\u001b[39;00m \u001b[38;5;21;01mexc\u001b[39;00m\n",
      "\u001b[0;31mDatabaseError\u001b[0m: Execution failed on sql '\n              SELECT p.customer_id, COUNT(DISTINCT p.payment_ID) AS total_payments,\n                     COUNT(DISTINCT r.rental_id) AS total_rentals\n              FROM Payment as p\n              LEFT JOIN Rental as r\n              ON p.rental_id = r.rental_id\n              GROUP BY customer_id\n              ORDER BY total_paymentds DESC, total_rentals DESC\n              ': no such column: total_paymentds"
     ]
    }
   ],
   "source": [
    "query_chal5 = \"\"\"\n",
    "              SELECT p.customer_id, COUNT(DISTINCT p.payment_ID) AS total_payments,\n",
    "                     COUNT(DISTINCT r.rental_id) AS total_rentals\n",
    "              FROM Payment as p\n",
    "              LEFT JOIN Rental as r\n",
    "              ON p.rental_id = r.rental_id\n",
    "              GROUP BY customer_id\n",
    "              ORDER BY total_paymentds DESC, total_rentals DESC\n",
    "              \"\"\"\n",
    "\n",
    "# Execute the query using pd.read_sql.\n",
    "df_chal5 = pd.read_sql(query_chal5, conn)\n",
    "\n",
    "print(\"Challenge 5\")\n",
    "print(df_chal5)"
   ]
  },
  {
   "cell_type": "code",
   "execution_count": null,
   "metadata": {},
   "outputs": [],
   "source": [
    "query_chal6 = \"\"\"\n",
    "        \n",
    "              \"\"\"\n",
    "\n",
    "# Execute the query using pd.read_sql.\n",
    "df_chal6 = pd.read_sql(query_chal6, conn)\n",
    "\n",
    "print(\"Challenge 6\")\n",
    "print(df_chal6)"
   ]
  },
  {
   "cell_type": "markdown",
   "metadata": {},
   "source": [
    "## Close the connection to the database.\n",
    "Always close the connection when you're done to free up resources."
   ]
  },
  {
   "cell_type": "code",
   "execution_count": 14,
   "metadata": {},
   "outputs": [],
   "source": [
    "# Close the connection\n",
    "conn.close()"
   ]
  }
 ],
 "metadata": {
  "kernelspec": {
   "display_name": "base",
   "language": "python",
   "name": "python3"
  },
  "language_info": {
   "codemirror_mode": {
    "name": "ipython",
    "version": 3
   },
   "file_extension": ".py",
   "mimetype": "text/x-python",
   "name": "python",
   "nbconvert_exporter": "python",
   "pygments_lexer": "ipython3",
   "version": "3.12.7"
  }
 },
 "nbformat": 4,
 "nbformat_minor": 2
}
